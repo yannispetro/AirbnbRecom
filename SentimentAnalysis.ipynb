{
 "cells": [
  {
   "cell_type": "code",
   "execution_count": 1,
   "metadata": {},
   "outputs": [
    {
     "data": {
      "application/vnd.jupyter.widget-view+json": {
       "model_id": "0805a1c8b37e481093ac18fbf9f7e231",
       "version_major": 2,
       "version_minor": 0
      },
      "text/plain": [
       "HBox(children=(IntProgress(value=1, bar_style='info', max=1), HTML(value='')))"
      ]
     },
     "metadata": {},
     "output_type": "display_data"
    },
    {
     "name": "stdout",
     "output_type": "stream",
     "text": [
      "\n"
     ]
    }
   ],
   "source": [
    "import pandas as pd\n",
    "import numpy as np\n",
    "from scipy import sparse\n",
    "import time\n",
    "from tqdm import tqdm, tqdm_notebook\n",
    "tqdm_notebook().pandas()\n",
    "\n",
    "from sklearn.externals import joblib\n",
    "from sklearn.feature_extraction.text import TfidfVectorizer\n",
    "from sklearn.model_selection import train_test_split\n",
    "from sklearn.decomposition import TruncatedSVD\n",
    "from sklearn.decomposition import PCA\n",
    "from sklearn.linear_model import LogisticRegression\n",
    "from sklearn.naive_bayes import GaussianNB\n",
    "from sklearn.svm import SVC\n",
    "from sklearn.svm import LinearSVC\n",
    "from sklearn.ensemble import RandomForestClassifier\n",
    "from sklearn.metrics import confusion_matrix\n",
    "\n",
    "import matplotlib.pyplot as plt\n",
    "plt.style.use('ggplot')"
   ]
  },
  {
   "cell_type": "code",
   "execution_count": 2,
   "metadata": {},
   "outputs": [],
   "source": [
    "dfr = pd.read_csv('data/YelpReview.csv')"
   ]
  },
  {
   "cell_type": "code",
   "execution_count": 3,
   "metadata": {},
   "outputs": [
    {
     "name": "stdout",
     "output_type": "stream",
     "text": [
      "4747892\n",
      "4747852\n"
     ]
    }
   ],
   "source": [
    "print(len(dfr))\n",
    "dfr = dfr.dropna(subset=['business_id', 'stars','clean_text'])\n",
    "print(len(dfr))"
   ]
  },
  {
   "cell_type": "code",
   "execution_count": 4,
   "metadata": {},
   "outputs": [],
   "source": [
    "corpus = list(dfr.clean_text)\n",
    "y      = list(dfr.sentiment)\n",
    "del dfr"
   ]
  },
  {
   "cell_type": "markdown",
   "metadata": {},
   "source": [
    "# TF-IDF Vectorization"
   ]
  },
  {
   "cell_type": "code",
   "execution_count": 5,
   "metadata": {},
   "outputs": [
    {
     "name": "stdout",
     "output_type": "stream",
     "text": [
      "--- 239.5211718082428 seconds ---\n"
     ]
    }
   ],
   "source": [
    "tfidf = TfidfVectorizer(max_features=10000)\n",
    "\n",
    "start_time = time.time()\n",
    "X_raw = tfidf.fit_transform(corpus)\n",
    "y_raw = y\n",
    "print('--- {0} seconds ---'.format( time.time() - start_time ))\n",
    "\n",
    "joblib.dump(tfidf, 'models/TFIDF_model.joblib')\n",
    "del corpus"
   ]
  },
  {
   "cell_type": "code",
   "execution_count": 6,
   "metadata": {},
   "outputs": [
    {
     "name": "stdout",
     "output_type": "stream",
     "text": [
      "(4747852, 10000)\n"
     ]
    }
   ],
   "source": [
    "print(X_raw.shape)\n",
    "# print(tfidf.get_feature_names())"
   ]
  },
  {
   "cell_type": "markdown",
   "metadata": {},
   "source": [
    "# Split data into training and test samples"
   ]
  },
  {
   "cell_type": "code",
   "execution_count": 7,
   "metadata": {},
   "outputs": [],
   "source": [
    "X_train, X_test, y_train, y_test = train_test_split(X_raw, y_raw, test_size=0.5, random_state=88)\n",
    "del X_raw, y_raw"
   ]
  },
  {
   "cell_type": "markdown",
   "metadata": {},
   "source": [
    "# Dimension reduction via Truncated SVD"
   ]
  },
  {
   "cell_type": "code",
   "execution_count": 8,
   "metadata": {},
   "outputs": [
    {
     "name": "stdout",
     "output_type": "stream",
     "text": [
      "--- 942.6050789356232 seconds ---\n",
      "--- 28.489117860794067 seconds ---\n"
     ]
    }
   ],
   "source": [
    "svd = TruncatedSVD(n_components=300)\n",
    "\n",
    "start_time = time.time()\n",
    "X_train_svd = svd.fit_transform(X_train)\n",
    "print('--- {0} seconds ---'.format( time.time() - start_time ))\n",
    "\n",
    "joblib.dump(svd, 'models/SVD_model.joblib')\n",
    "\n",
    "start_time = time.time()\n",
    "X_test_svd = svd.transform(X_test)\n",
    "print('--- {0} seconds ---'.format( time.time() - start_time ))\n",
    "\n",
    "# print(svd.explained_variance_ratio_)  \n",
    "# print(svd.explained_variance_ratio_.sum())  \n",
    "# print(svd.singular_values_)\n",
    "\n",
    "del X_train"
   ]
  },
  {
   "cell_type": "code",
   "execution_count": 9,
   "metadata": {},
   "outputs": [
    {
     "data": {
      "text/plain": [
       "Text(0.5, 0, 'Singular Value count')"
      ]
     },
     "execution_count": 9,
     "metadata": {},
     "output_type": "execute_result"
    },
    {
     "data": {
      "image/png": "[encoded data removed]",
      "text/plain": [
       "<Figure size 432x288 with 1 Axes>"
      ]
     },
     "metadata": {
      "needs_background": "light"
     },
     "output_type": "display_data"
    }
   ],
   "source": [
    "fig, ax = plt.subplots()\n",
    "svs_ = svd.singular_values_\n",
    "ax.plot(range(1,len(svs_)+1), svs_, '-')\n",
    "plt.ylim([0,200])\n",
    "plt.xlabel('Singular Value count')"
   ]
  },
  {
   "cell_type": "markdown",
   "metadata": {},
   "source": [
    "# Logistic Regression classification"
   ]
  },
  {
   "cell_type": "code",
   "execution_count": 10,
   "metadata": {},
   "outputs": [
    {
     "name": "stdout",
     "output_type": "stream",
     "text": [
      "--- 92.89965176582336 seconds ---\n"
     ]
    },
    {
     "data": {
      "text/plain": [
       "['models/LogReg_model.joblib']"
      ]
     },
     "execution_count": 10,
     "metadata": {},
     "output_type": "execute_result"
    }
   ],
   "source": [
    "logreg = LogisticRegression(random_state=34, solver='lbfgs')\n",
    "\n",
    "start_time = time.time()\n",
    "logreg.fit(X_train_svd, y_train)\n",
    "print('--- {0} seconds ---'.format( time.time() - start_time ))\n",
    "\n",
    "joblib.dump(logreg, 'models/LogReg_model.joblib')"
   ]
  },
  {
   "cell_type": "code",
   "execution_count": 11,
   "metadata": {},
   "outputs": [
    {
     "name": "stdout",
     "output_type": "stream",
     "text": [
      "--- 19.745219945907593 seconds ---\n",
      "Accuracy of logistic regression classifier on test set: 0.87\n"
     ]
    }
   ],
   "source": [
    "start_time = time.time()\n",
    "y_pred = logreg.predict(X_test_svd)\n",
    "print('--- {0} seconds ---'.format( time.time() - start_time ))\n",
    "print('Accuracy of logistic regression classifier on test set: {:.2f}'.format(logreg.score(X_test_svd, y_test)))"
   ]
  },
  {
   "cell_type": "code",
   "execution_count": 12,
   "metadata": {},
   "outputs": [
    {
     "name": "stdout",
     "output_type": "stream",
     "text": [
      "[[ 638089  177944]\n",
      " [ 122687 1435206]]\n"
     ]
    }
   ],
   "source": [
    "conf_mat = confusion_matrix(y_test, y_pred)\n",
    "print(conf_mat)"
   ]
  },
  {
   "cell_type": "markdown",
   "metadata": {},
   "source": [
    "# Gaussian Naive Bayes classifier"
   ]
  },
  {
   "cell_type": "code",
   "execution_count": 13,
   "metadata": {},
   "outputs": [
    {
     "name": "stdout",
     "output_type": "stream",
     "text": [
      "--- 58.02154588699341 seconds ---\n"
     ]
    },
    {
     "data": {
      "text/plain": [
       "['models/GNB_model.joblib']"
      ]
     },
     "execution_count": 13,
     "metadata": {},
     "output_type": "execute_result"
    }
   ],
   "source": [
    "gnb = GaussianNB()\n",
    "\n",
    "start_time = time.time()\n",
    "gnb.fit(X_train_svd, y_train)\n",
    "print('--- {0} seconds ---'.format( time.time() - start_time ))\n",
    "\n",
    "joblib.dump(gnb, 'models/GNB_model.joblib')"
   ]
  },
  {
   "cell_type": "code",
   "execution_count": 14,
   "metadata": {},
   "outputs": [
    {
     "name": "stdout",
     "output_type": "stream",
     "text": [
      "--- 117.09749507904053 seconds ---\n",
      "Accuracy of Gaussian Naive Bayes classifier on test set: 0.68\n"
     ]
    }
   ],
   "source": [
    "start_time = time.time()\n",
    "y_pred = gnb.predict(X_test_svd)\n",
    "print('--- {0} seconds ---'.format( time.time() - start_time ))\n",
    "print('Accuracy of Gaussian Naive Bayes classifier on test set: {:.2f}'.format(gnb.score(X_test_svd, y_test)))"
   ]
  },
  {
   "cell_type": "code",
   "execution_count": 15,
   "metadata": {},
   "outputs": [
    {
     "name": "stdout",
     "output_type": "stream",
     "text": [
      "[[ 602273  213760]\n",
      " [ 535343 1022550]]\n"
     ]
    }
   ],
   "source": [
    "conf_mat = confusion_matrix(y_test, y_pred)\n",
    "print(conf_mat)"
   ]
  },
  {
   "cell_type": "markdown",
   "metadata": {},
   "source": [
    "# Linear Support Vector Machine "
   ]
  },
  {
   "cell_type": "code",
   "execution_count": 16,
   "metadata": {},
   "outputs": [
    {
     "name": "stdout",
     "output_type": "stream",
     "text": [
      "--- 316.4190351963043 seconds ---\n"
     ]
    },
    {
     "data": {
      "text/plain": [
       "['models/LSVM_model.joblib']"
      ]
     },
     "execution_count": 16,
     "metadata": {},
     "output_type": "execute_result"
    }
   ],
   "source": [
    "lsvm = LinearSVC(random_state=845, tol=1e-5)\n",
    "\n",
    "start_time = time.time()\n",
    "lsvm.fit(X_train_svd, y_train)\n",
    "print('--- {0} seconds ---'.format( time.time() - start_time ))\n",
    "\n",
    "joblib.dump(lsvm, 'models/LSVM_model.joblib')"
   ]
  },
  {
   "cell_type": "code",
   "execution_count": 17,
   "metadata": {},
   "outputs": [
    {
     "name": "stdout",
     "output_type": "stream",
     "text": [
      "--- 20.215735912322998 seconds ---\n",
      "Accuracy of Linear SVM classifier on test set: 0.87\n"
     ]
    }
   ],
   "source": [
    "start_time = time.time()\n",
    "y_pred = lsvm.predict(X_test_svd)\n",
    "print('--- {0} seconds ---'.format( time.time() - start_time ))\n",
    "print('Accuracy of Linear SVM classifier on test set: {:.2f}'.format(lsvm.score(X_test_svd, y_test)))"
   ]
  },
  {
   "cell_type": "code",
   "execution_count": 18,
   "metadata": {},
   "outputs": [
    {
     "name": "stdout",
     "output_type": "stream",
     "text": [
      "[[ 635821  180212]\n",
      " [ 120709 1437184]]\n"
     ]
    }
   ],
   "source": [
    "conf_mat = confusion_matrix(y_test, y_pred)\n",
    "print(conf_mat)"
   ]
  },
  {
   "cell_type": "markdown",
   "metadata": {},
   "source": [
    "# Random Forest classifier"
   ]
  },
  {
   "cell_type": "code",
   "execution_count": 10,
   "metadata": {},
   "outputs": [
    {
     "name": "stdout",
     "output_type": "stream",
     "text": [
      "--- 571.137711763382 seconds ---\n"
     ]
    },
    {
     "data": {
      "text/plain": [
       "['models/RFC_model.sav']"
      ]
     },
     "execution_count": 10,
     "metadata": {},
     "output_type": "execute_result"
    }
   ],
   "source": [
    "# rfc = RandomForestClassifier(n_estimators=30, max_depth=30, random_state=214)\n",
    "rfc = RandomForestClassifier(n_estimators=10)\n",
    "\n",
    "start_time = time.time()\n",
    "rfc.fit(X_train_svd, y_train)\n",
    "print('--- {0} seconds ---'.format( time.time() - start_time ))\n",
    "\n",
    "joblib.dump(rfc, 'models/RFC_model.joblib')"
   ]
  },
  {
   "cell_type": "code",
   "execution_count": 11,
   "metadata": {},
   "outputs": [
    {
     "name": "stdout",
     "output_type": "stream",
     "text": [
      "--- 82.608647108078 seconds ---\n",
      "Accuracy of Random Forest classifier on test set: 0.79\n"
     ]
    }
   ],
   "source": [
    "start_time = time.time()\n",
    "y_pred = rfc.predict(X_test_svd)\n",
    "print('--- {0} seconds ---'.format( time.time() - start_time ))\n",
    "print('Accuracy of Random Forest classifier on test set: {:.2f}'.format(rfc.score(X_test_svd, y_test)))"
   ]
  },
  {
   "cell_type": "code",
   "execution_count": 12,
   "metadata": {},
   "outputs": [
    {
     "name": "stdout",
     "output_type": "stream",
     "text": [
      "[[ 820610  402859]\n",
      " [ 335634 2001786]]\n"
     ]
    }
   ],
   "source": [
    "conf_mat = confusion_matrix(y_test, y_pred)\n",
    "print(conf_mat)"
   ]
  },
  {
   "cell_type": "code",
   "execution_count": null,
   "metadata": {},
   "outputs": [],
   "source": []
  }
 ],
 "metadata": {
  "kernelspec": {
   "display_name": "Python 3",
   "language": "python",
   "name": "python3"
  },
  "language_info": {
   "codemirror_mode": {
    "name": "ipython",
    "version": 3
   },
   "file_extension": ".py",
   "mimetype": "text/x-python",
   "name": "python",
   "nbconvert_exporter": "python",
   "pygments_lexer": "ipython3",
   "version": "3.7.3"
  }
 },
 "nbformat": 4,
 "nbformat_minor": 2
}

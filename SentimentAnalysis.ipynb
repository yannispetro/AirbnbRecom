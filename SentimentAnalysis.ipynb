{
 "cells": [
  {
   "cell_type": "code",
   "execution_count": 4,
   "metadata": {},
   "outputs": [
    {
     "data": {
      "application/vnd.jupyter.widget-view+json": {
       "model_id": "ed386242b6e346018f029ee4c64c3958",
       "version_major": 2,
       "version_minor": 0
      },
      "text/plain": [
       "HBox(children=(IntProgress(value=1, bar_style='info', max=1), HTML(value='')))"
      ]
     },
     "metadata": {},
     "output_type": "display_data"
    },
    {
     "name": "stdout",
     "output_type": "stream",
     "text": [
      "\n"
     ]
    }
   ],
   "source": [
    "import pandas as pd\n",
    "import numpy as np\n",
    "from scipy import sparse\n",
    "import time\n",
    "from tqdm import tqdm, tqdm_notebook\n",
    "tqdm_notebook().pandas()\n",
    "\n",
    "from sklearn.externals import joblib\n",
    "from sklearn.feature_extraction.text import TfidfVectorizer\n",
    "from sklearn.model_selection import train_test_split\n",
    "from sklearn.decomposition import TruncatedSVD\n",
    "from sklearn.decomposition import PCA\n",
    "from sklearn.linear_model import LogisticRegression\n",
    "from sklearn.naive_bayes import GaussianNB\n",
    "from sklearn.svm import SVC\n",
    "from sklearn.svm import LinearSVC\n",
    "from sklearn.ensemble import RandomForestClassifier\n",
    "from sklearn.metrics import confusion_matrix\n",
    "\n",
    "import matplotlib.pyplot as plt\n",
    "plt.style.use('ggplot')"
   ]
  },
  {
   "cell_type": "code",
   "execution_count": 5,
   "metadata": {},
   "outputs": [],
   "source": [
    "dfr = pd.read_pickle('data/YelpReviewStemmed.pkl.gz')"
   ]
  },
  {
   "cell_type": "code",
   "execution_count": 6,
   "metadata": {},
   "outputs": [
    {
     "name": "stdout",
     "output_type": "stream",
     "text": [
      "4747892\n",
      "4747852\n"
     ]
    }
   ],
   "source": [
    "print(len(dfr))\n",
    "dfr = dfr.dropna(subset=['business_id', 'stars','stemmed_text'])\n",
    "print(len(dfr))"
   ]
  },
  {
   "cell_type": "code",
   "execution_count": 7,
   "metadata": {},
   "outputs": [],
   "source": [
    "corpus = list(dfr.stemmed_text)\n",
    "y      = list(dfr.sentiment)\n",
    "del dfr"
   ]
  },
  {
   "cell_type": "markdown",
   "metadata": {},
   "source": [
    "# TF-IDF Vectorization"
   ]
  },
  {
   "cell_type": "code",
   "execution_count": 8,
   "metadata": {},
   "outputs": [
    {
     "name": "stdout",
     "output_type": "stream",
     "text": [
      "--- 203.7308909893036 seconds ---\n"
     ]
    }
   ],
   "source": [
    "tfidf = TfidfVectorizer(max_features=10000)\n",
    "\n",
    "start_time = time.time()\n",
    "X_raw = tfidf.fit_transform(corpus)\n",
    "y_raw = y\n",
    "print('--- {0} seconds ---'.format( time.time() - start_time ))\n",
    "\n",
    "joblib.dump(tfidf, 'models/TFIDF_model.joblib')\n",
    "del corpus"
   ]
  },
  {
   "cell_type": "code",
   "execution_count": 9,
   "metadata": {},
   "outputs": [
    {
     "name": "stdout",
     "output_type": "stream",
     "text": [
      "(4747852, 10000)\n"
     ]
    }
   ],
   "source": [
    "print(X_raw.shape)\n",
    "# print(tfidf.get_feature_names())"
   ]
  },
  {
   "cell_type": "markdown",
   "metadata": {},
   "source": [
    "# Split data into training and test sets"
   ]
  },
  {
   "cell_type": "code",
   "execution_count": 10,
   "metadata": {},
   "outputs": [],
   "source": [
    "X_train, X_test, y_train, y_test = train_test_split(X_raw, y_raw, test_size=0.25, random_state=88)\n",
    "del X_raw, y_raw"
   ]
  },
  {
   "cell_type": "markdown",
   "metadata": {},
   "source": [
    "# Logistic Regression on full matrix"
   ]
  },
  {
   "cell_type": "code",
   "execution_count": 8,
   "metadata": {},
   "outputs": [
    {
     "name": "stdout",
     "output_type": "stream",
     "text": [
      "--- 187.95039105415344 seconds ---\n"
     ]
    },
    {
     "data": {
      "text/plain": [
       "['models/LogReg_model_noSVD.joblib']"
      ]
     },
     "execution_count": 8,
     "metadata": {},
     "output_type": "execute_result"
    }
   ],
   "source": [
    "logreg = LogisticRegression(random_state=34, solver='lbfgs', max_iter=1000)\n",
    "\n",
    "start_time = time.time()\n",
    "logreg.fit(X_train, y_train)\n",
    "print('--- {0} seconds ---'.format( time.time() - start_time ))\n",
    "\n",
    "joblib.dump(logreg, 'models/LogReg_model_noSVD.joblib')"
   ]
  },
  {
   "cell_type": "code",
   "execution_count": null,
   "metadata": {},
   "outputs": [
    {
     "name": "stdout",
     "output_type": "stream",
     "text": [
      "--- 0.1628117561340332 seconds ---\n",
      "Accuracy of logistic regression classifier on test set: 0.90\n"
     ]
    }
   ],
   "source": [
    "start_time = time.time()\n",
    "y_pred = logreg.predict(X_test)\n",
    "print('--- {0} seconds ---'.format( time.time() - start_time ))\n",
    "print('Accuracy of logistic regression classifier on test set: {:.2f}'.format(logreg.score(X_test, y_test)))"
   ]
  },
  {
   "cell_type": "code",
   "execution_count": null,
   "metadata": {},
   "outputs": [
    {
     "name": "stdout",
     "output_type": "stream",
     "text": [
      "[[334404  73696]\n",
      " [ 49431 729432]]\n"
     ]
    }
   ],
   "source": [
    "conf_mat = confusion_matrix(y_test, y_pred)\n",
    "print(conf_mat)"
   ]
  },
  {
   "cell_type": "markdown",
   "metadata": {},
   "source": [
    "# Dimension reduction via Truncated SVD"
   ]
  },
  {
   "cell_type": "code",
   "execution_count": null,
   "metadata": {},
   "outputs": [
    {
     "name": "stdout",
     "output_type": "stream",
     "text": [
      "--- 2725.411073207855 seconds ---\n",
      "--- 11.517033100128174 seconds ---\n"
     ]
    }
   ],
   "source": [
    "svd = TruncatedSVD(n_components=300)\n",
    "\n",
    "start_time = time.time()\n",
    "X_train_svd = svd.fit_transform(X_train)\n",
    "print('--- {0} seconds ---'.format( time.time() - start_time ))\n",
    "\n",
    "joblib.dump(svd, 'models/SVD_model.joblib')\n",
    "\n",
    "start_time = time.time()\n",
    "X_test_svd = svd.transform(X_test)\n",
    "print('--- {0} seconds ---'.format( time.time() - start_time ))\n",
    "\n",
    "# print(svd.explained_variance_ratio_)  \n",
    "# print(svd.explained_variance_ratio_.sum())  \n",
    "# print(svd.singular_values_)\n",
    "\n",
    "del X_train"
   ]
  },
  {
   "cell_type": "code",
   "execution_count": null,
   "metadata": {},
   "outputs": [
    {
     "name": "stdout",
     "output_type": "stream",
     "text": [
      "Total explained variance ratio: 0.36106978450666705\n"
     ]
    },
    {
     "data": {
      "image/png": "[encoded data removed]",
      "text/plain": [
       "<Figure size 432x288 with 1 Axes>"
      ]
     },
     "metadata": {
      "needs_background": "light"
     },
     "output_type": "display_data"
    }
   ],
   "source": [
    "fig, ax = plt.subplots()\n",
    "svs_ = svd.singular_values_\n",
    "ax.plot(range(1,len(svs_)+1), svs_, '-')\n",
    "plt.ylim([0,400])\n",
    "plt.xlabel('Singular Value count')\n",
    "print('Total explained variance ratio: {0}'.format( svd.explained_variance_ratio_.sum())) "
   ]
  },
  {
   "cell_type": "markdown",
   "metadata": {},
   "source": [
    "# Logistic Regression classifier"
   ]
  },
  {
   "cell_type": "code",
   "execution_count": null,
   "metadata": {},
   "outputs": [
    {
     "name": "stdout",
     "output_type": "stream",
     "text": [
      "--- 98.60977101325989 seconds ---\n"
     ]
    },
    {
     "data": {
      "text/plain": [
       "['models/LogReg_model.joblib']"
      ]
     },
     "execution_count": 13,
     "metadata": {},
     "output_type": "execute_result"
    }
   ],
   "source": [
    "logreg = LogisticRegression(random_state=34, solver='lbfgs')\n",
    "\n",
    "start_time = time.time()\n",
    "logreg.fit(X_train_svd, y_train)\n",
    "print('--- {0} seconds ---'.format( time.time() - start_time ))\n",
    "\n",
    "joblib.dump(logreg, 'models/LogReg_model.joblib')"
   ]
  },
  {
   "cell_type": "code",
   "execution_count": null,
   "metadata": {},
   "outputs": [
    {
     "name": "stdout",
     "output_type": "stream",
     "text": [
      "--- 2.218111991882324 seconds ---\n",
      "Accuracy of logistic regression classifier on test set: 0.87\n"
     ]
    }
   ],
   "source": [
    "start_time = time.time()\n",
    "y_pred = logreg.predict(X_test_svd)\n",
    "print('--- {0} seconds ---'.format( time.time() - start_time ))\n",
    "print('Accuracy of logistic regression classifier on test set: {:.2f}'.format(logreg.score(X_test_svd, y_test)))"
   ]
  },
  {
   "cell_type": "code",
   "execution_count": null,
   "metadata": {},
   "outputs": [
    {
     "name": "stdout",
     "output_type": "stream",
     "text": [
      "[[318948  89152]\n",
      " [ 62315 716548]]\n"
     ]
    }
   ],
   "source": [
    "conf_mat = confusion_matrix(y_test, y_pred)\n",
    "print(conf_mat)"
   ]
  },
  {
   "cell_type": "markdown",
   "metadata": {},
   "source": [
    "# Gaussian Naive Bayes classifier"
   ]
  },
  {
   "cell_type": "code",
   "execution_count": null,
   "metadata": {},
   "outputs": [
    {
     "name": "stdout",
     "output_type": "stream",
     "text": [
      "--- 155.595388174057 seconds ---\n"
     ]
    },
    {
     "data": {
      "text/plain": [
       "['models/GNB_model.joblib']"
      ]
     },
     "execution_count": 16,
     "metadata": {},
     "output_type": "execute_result"
    }
   ],
   "source": [
    "gnb = GaussianNB()\n",
    "\n",
    "start_time = time.time()\n",
    "gnb.fit(X_train_svd, y_train)\n",
    "print('--- {0} seconds ---'.format( time.time() - start_time ))\n",
    "\n",
    "joblib.dump(gnb, 'models/GNB_model.joblib')"
   ]
  },
  {
   "cell_type": "code",
   "execution_count": null,
   "metadata": {},
   "outputs": [
    {
     "name": "stdout",
     "output_type": "stream",
     "text": [
      "--- 19.64249014854431 seconds ---\n",
      "Accuracy of Gaussian Naive Bayes classifier on test set: 0.69\n"
     ]
    }
   ],
   "source": [
    "start_time = time.time()\n",
    "y_pred = gnb.predict(X_test_svd)\n",
    "print('--- {0} seconds ---'.format( time.time() - start_time ))\n",
    "print('Accuracy of Gaussian Naive Bayes classifier on test set: {:.2f}'.format(gnb.score(X_test_svd, y_test)))"
   ]
  },
  {
   "cell_type": "code",
   "execution_count": null,
   "metadata": {},
   "outputs": [
    {
     "name": "stdout",
     "output_type": "stream",
     "text": [
      "[[299328 108772]\n",
      " [254737 524126]]\n"
     ]
    }
   ],
   "source": [
    "conf_mat = confusion_matrix(y_test, y_pred)\n",
    "print(conf_mat)"
   ]
  },
  {
   "cell_type": "markdown",
   "metadata": {},
   "source": [
    "# Undersampling 100000 training and 20000 test"
   ]
  },
  {
   "cell_type": "code",
   "execution_count": 29,
   "metadata": {},
   "outputs": [],
   "source": [
    "us = np.random.permutation(range(X_train.shape[0]))[:100000]\n",
    "X_train_svd_us = X_train_svd[us,:]\n",
    "y_train_us = np.array(y_train)[us]"
   ]
  },
  {
   "cell_type": "code",
   "execution_count": 30,
   "metadata": {},
   "outputs": [],
   "source": [
    "us = np.random.permutation(range(X_test.shape[0]))[:20000]\n",
    "X_test_svd_us = X_test_svd[us,:]\n",
    "y_test_us = np.array(y_test)[us]"
   ]
  },
  {
   "cell_type": "markdown",
   "metadata": {},
   "source": [
    "# Logistic Regression on undersampled data"
   ]
  },
  {
   "cell_type": "code",
   "execution_count": 31,
   "metadata": {},
   "outputs": [
    {
     "name": "stdout",
     "output_type": "stream",
     "text": [
      "--- 1.573659896850586 seconds ---\n"
     ]
    },
    {
     "data": {
      "text/plain": [
       "['models/LogReg_model.joblib']"
      ]
     },
     "execution_count": 31,
     "metadata": {},
     "output_type": "execute_result"
    }
   ],
   "source": [
    "logreg = LogisticRegression(random_state=34, solver='lbfgs')\n",
    "\n",
    "start_time = time.time()\n",
    "logreg.fit(X_train_svd_us, y_train_us)\n",
    "print('--- {0} seconds ---'.format( time.time() - start_time ))"
   ]
  },
  {
   "cell_type": "code",
   "execution_count": 32,
   "metadata": {},
   "outputs": [
    {
     "name": "stdout",
     "output_type": "stream",
     "text": [
      "--- 0.012654781341552734 seconds ---\n",
      "Accuracy of logistic regression classifier on test set: 0.87\n"
     ]
    }
   ],
   "source": [
    "start_time = time.time()\n",
    "y_pred = logreg.predict(X_test_svd_us)\n",
    "print('--- {0} seconds ---'.format( time.time() - start_time ))\n",
    "print('Accuracy of logistic regression classifier on test set: {:.2f}'.format(logreg.score(X_test_svd_us, y_test_us)))"
   ]
  },
  {
   "cell_type": "markdown",
   "metadata": {},
   "source": [
    "# Linear Support Vector Machine on undersampled data"
   ]
  },
  {
   "cell_type": "code",
   "execution_count": 33,
   "metadata": {},
   "outputs": [
    {
     "name": "stdout",
     "output_type": "stream",
     "text": [
      "--- 4.63019585609436 seconds ---\n"
     ]
    },
    {
     "data": {
      "text/plain": [
       "['models/LSVM_model.joblib']"
      ]
     },
     "execution_count": 33,
     "metadata": {},
     "output_type": "execute_result"
    }
   ],
   "source": [
    "lsvm = LinearSVC(random_state=845, tol=1e-5)\n",
    "\n",
    "start_time = time.time()\n",
    "lsvm.fit(X_train_svd_us, y_train_us)\n",
    "print('--- {0} seconds ---'.format( time.time() - start_time ))\n",
    "\n",
    "joblib.dump(lsvm, 'models/LSVM_model.joblib')"
   ]
  },
  {
   "cell_type": "code",
   "execution_count": 34,
   "metadata": {},
   "outputs": [
    {
     "name": "stdout",
     "output_type": "stream",
     "text": [
      "--- 0.014034032821655273 seconds ---\n",
      "Accuracy of Linear SVM classifier on test set: 0.87\n"
     ]
    }
   ],
   "source": [
    "start_time = time.time()\n",
    "y_pred = lsvm.predict(X_test_svd_us)\n",
    "print('--- {0} seconds ---'.format( time.time() - start_time ))\n",
    "print('Accuracy of Linear SVM classifier on test set: {:.2f}'.format(lsvm.score(X_test_svd_us, y_test_us)))"
   ]
  },
  {
   "cell_type": "code",
   "execution_count": 35,
   "metadata": {},
   "outputs": [
    {
     "name": "stdout",
     "output_type": "stream",
     "text": [
      "[[ 5425  1470]\n",
      " [ 1046 12059]]\n"
     ]
    }
   ],
   "source": [
    "conf_mat = confusion_matrix(y_test_us, y_pred)\n",
    "print(conf_mat)"
   ]
  },
  {
   "cell_type": "markdown",
   "metadata": {},
   "source": [
    "# Random Forest classifier on undersampled data"
   ]
  },
  {
   "cell_type": "code",
   "execution_count": 39,
   "metadata": {},
   "outputs": [
    {
     "name": "stdout",
     "output_type": "stream",
     "text": [
      "--- 62.81726384162903 seconds ---\n"
     ]
    },
    {
     "data": {
      "text/plain": [
       "['models/RFC_model.joblib']"
      ]
     },
     "execution_count": 39,
     "metadata": {},
     "output_type": "execute_result"
    }
   ],
   "source": [
    "rfc = RandomForestClassifier(n_estimators=30, max_depth=30, random_state=214)\n",
    "# rfc = RandomForestClassifier(n_estimators=10)\n",
    "\n",
    "start_time = time.time()\n",
    "rfc.fit(X_train_svd_us, y_train_us)\n",
    "print('--- {0} seconds ---'.format( time.time() - start_time ))\n",
    "\n",
    "joblib.dump(rfc, 'models/RFC_model.joblib')"
   ]
  },
  {
   "cell_type": "code",
   "execution_count": 40,
   "metadata": {},
   "outputs": [
    {
     "name": "stdout",
     "output_type": "stream",
     "text": [
      "--- 11.814661264419556 seconds ---\n",
      "Accuracy of Random Forest classifier on test set: 0.80\n"
     ]
    }
   ],
   "source": [
    "start_time = time.time()\n",
    "y_pred = rfc.predict(X_test_svd)\n",
    "print('--- {0} seconds ---'.format( time.time() - start_time ))\n",
    "print('Accuracy of Random Forest classifier on test set: {:.2f}'.format(rfc.score(X_test_svd_us, y_test_us)))"
   ]
  },
  {
   "cell_type": "code",
   "execution_count": 41,
   "metadata": {},
   "outputs": [
    {
     "name": "stdout",
     "output_type": "stream",
     "text": [
      "[[234545 173555]\n",
      " [ 59524 719339]]\n"
     ]
    }
   ],
   "source": [
    "conf_mat = confusion_matrix(y_test, y_pred)\n",
    "print(conf_mat)"
   ]
  },
  {
   "cell_type": "code",
   "execution_count": null,
   "metadata": {},
   "outputs": [],
   "source": []
  }
 ],
 "metadata": {
  "kernelspec": {
   "display_name": "Python 3",
   "language": "python",
   "name": "python3"
  },
  "language_info": {
   "codemirror_mode": {
    "name": "ipython",
    "version": 3
   },
   "file_extension": ".py",
   "mimetype": "text/x-python",
   "name": "python",
   "nbconvert_exporter": "python",
   "pygments_lexer": "ipython3",
   "version": "3.7.3"
  }
 },
 "nbformat": 4,
 "nbformat_minor": 2
}

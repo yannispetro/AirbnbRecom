{
 "cells": [
  {
   "cell_type": "code",
   "execution_count": 7,
   "metadata": {},
   "outputs": [
    {
     "data": {
      "application/vnd.jupyter.widget-view+json": {
       "model_id": "c403c3fa3648452c99e2067712fa6532",
       "version_major": 2,
       "version_minor": 0
      },
      "text/plain": [
       "HBox(children=(IntProgress(value=1, bar_style='info', max=1), HTML(value='')))"
      ]
     },
     "metadata": {},
     "output_type": "display_data"
    },
    {
     "name": "stdout",
     "output_type": "stream",
     "text": [
      "\n"
     ]
    }
   ],
   "source": [
    "import pandas as pd\n",
    "from decimal import Decimal\n",
    "from re import sub\n",
    "from nltk.corpus import stopwords\n",
    "import string\n",
    "from langdetect import detect\n",
    "from tqdm import tqdm, tqdm_notebook\n",
    "tqdm_notebook().pandas()\n",
    "\n",
    "from nltk.stem import PorterStemmer"
   ]
  },
  {
   "cell_type": "markdown",
   "metadata": {},
   "source": [
    "# Yelp data"
   ]
  },
  {
   "cell_type": "code",
   "execution_count": 8,
   "metadata": {},
   "outputs": [],
   "source": [
    "dfb = pd.read_pickle('data/YelpBusiness.pkl.gz')\n",
    "dfr = pd.read_pickle('data/YelpReview.pkl.gz')"
   ]
  },
  {
   "cell_type": "code",
   "execution_count": 9,
   "metadata": {},
   "outputs": [
    {
     "data": {
      "text/html": [
       "<div>\n",
       "<style scoped>\n",
       "    .dataframe tbody tr th:only-of-type {\n",
       "        vertical-align: middle;\n",
       "    }\n",
       "\n",
       "    .dataframe tbody tr th {\n",
       "        vertical-align: top;\n",
       "    }\n",
       "\n",
       "    .dataframe thead th {\n",
       "        text-align: right;\n",
       "    }\n",
       "</style>\n",
       "<table border=\"1\" class=\"dataframe\">\n",
       "  <thead>\n",
       "    <tr style=\"text-align: right;\">\n",
       "      <th></th>\n",
       "      <th>address</th>\n",
       "      <th>attributes</th>\n",
       "      <th>business_id</th>\n",
       "      <th>categories</th>\n",
       "      <th>city</th>\n",
       "      <th>hours</th>\n",
       "      <th>is_open</th>\n",
       "      <th>latitude</th>\n",
       "      <th>longitude</th>\n",
       "      <th>name</th>\n",
       "      <th>postal_code</th>\n",
       "      <th>review_count</th>\n",
       "      <th>stars</th>\n",
       "      <th>state</th>\n",
       "      <th>relevance</th>\n",
       "    </tr>\n",
       "  </thead>\n",
       "  <tbody>\n",
       "    <tr>\n",
       "      <th>1</th>\n",
       "      <td>30 Eglinton Avenue W</td>\n",
       "      <td>{'RestaurantsReservations': 'True', 'GoodForMe...</td>\n",
       "      <td>QXAEGFB4oINsVuTFxEYKFQ</td>\n",
       "      <td>Specialty Food, Restaurants, Dim Sum, Imported...</td>\n",
       "      <td>Mississauga</td>\n",
       "      <td>{'Monday': '9:0-0:0', 'Tuesday': '9:0-0:0', 'W...</td>\n",
       "      <td>1</td>\n",
       "      <td>43.605499</td>\n",
       "      <td>-79.652289</td>\n",
       "      <td>Emerald Chinese Restaurant</td>\n",
       "      <td>L5R 3E7</td>\n",
       "      <td>128</td>\n",
       "      <td>2.5</td>\n",
       "      <td>ON</td>\n",
       "      <td>1</td>\n",
       "    </tr>\n",
       "    <tr>\n",
       "      <th>2</th>\n",
       "      <td>10110 Johnston Rd, Ste 15</td>\n",
       "      <td>{'GoodForKids': 'True', 'NoiseLevel': 'u'avera...</td>\n",
       "      <td>gnKjwL_1w79qoiV3IC_xQQ</td>\n",
       "      <td>Sushi Bars, Restaurants, Japanese</td>\n",
       "      <td>Charlotte</td>\n",
       "      <td>{'Monday': '17:30-21:30', 'Wednesday': '17:30-...</td>\n",
       "      <td>1</td>\n",
       "      <td>35.092564</td>\n",
       "      <td>-80.859132</td>\n",
       "      <td>Musashi Japanese Restaurant</td>\n",
       "      <td>28210</td>\n",
       "      <td>170</td>\n",
       "      <td>4.0</td>\n",
       "      <td>NC</td>\n",
       "      <td>1</td>\n",
       "    </tr>\n",
       "  </tbody>\n",
       "</table>\n",
       "</div>"
      ],
      "text/plain": [
       "                     address  \\\n",
       "1       30 Eglinton Avenue W   \n",
       "2  10110 Johnston Rd, Ste 15   \n",
       "\n",
       "                                          attributes             business_id  \\\n",
       "1  {'RestaurantsReservations': 'True', 'GoodForMe...  QXAEGFB4oINsVuTFxEYKFQ   \n",
       "2  {'GoodForKids': 'True', 'NoiseLevel': 'u'avera...  gnKjwL_1w79qoiV3IC_xQQ   \n",
       "\n",
       "                                          categories         city  \\\n",
       "1  Specialty Food, Restaurants, Dim Sum, Imported...  Mississauga   \n",
       "2                  Sushi Bars, Restaurants, Japanese    Charlotte   \n",
       "\n",
       "                                               hours  is_open   latitude  \\\n",
       "1  {'Monday': '9:0-0:0', 'Tuesday': '9:0-0:0', 'W...        1  43.605499   \n",
       "2  {'Monday': '17:30-21:30', 'Wednesday': '17:30-...        1  35.092564   \n",
       "\n",
       "   longitude                         name postal_code  review_count  stars  \\\n",
       "1 -79.652289   Emerald Chinese Restaurant     L5R 3E7           128    2.5   \n",
       "2 -80.859132  Musashi Japanese Restaurant       28210           170    4.0   \n",
       "\n",
       "  state  relevance  \n",
       "1    ON          1  \n",
       "2    NC          1  "
      ]
     },
     "execution_count": 9,
     "metadata": {},
     "output_type": "execute_result"
    }
   ],
   "source": [
    "dfb.head(2)"
   ]
  },
  {
   "cell_type": "code",
   "execution_count": 10,
   "metadata": {},
   "outputs": [],
   "source": [
    "def check_montreal(city):\n",
    "    if isinstance(city, str):\n",
    "        if city in ['Montréal','Montreal']:\n",
    "            return 1\n",
    "        else:\n",
    "            return 0\n",
    "    else:\n",
    "        return 0"
   ]
  },
  {
   "cell_type": "code",
   "execution_count": 11,
   "metadata": {},
   "outputs": [
    {
     "data": {
      "application/vnd.jupyter.widget-view+json": {
       "model_id": "56a9d1fd09bb491dbc6e5714ba0d28da",
       "version_major": 2,
       "version_minor": 0
      },
      "text/plain": [
       "HBox(children=(IntProgress(value=0, max=78595), HTML(value='')))"
      ]
     },
     "metadata": {},
     "output_type": "display_data"
    },
    {
     "name": "stdout",
     "output_type": "stream",
     "text": [
      "\n"
     ]
    }
   ],
   "source": [
    "dfb['in_montreal'] = dfb['city'].progress_apply(check_montreal)"
   ]
  },
  {
   "cell_type": "code",
   "execution_count": 12,
   "metadata": {},
   "outputs": [
    {
     "name": "stdout",
     "output_type": "stream",
     "text": [
      "6.3% of relevant Yelp businesses are in Montreal\n"
     ]
    }
   ],
   "source": [
    "den = len(dfb)\n",
    "dfb = dfb[dfb.in_montreal == 1]\n",
    "b_ids = set(dfb.business_id)\n",
    "enum = len(dfb)\n",
    "print('{:.1f}% of relevant Yelp businesses are in Montreal'.format( enum/den*100 ) ) "
   ]
  },
  {
   "cell_type": "code",
   "execution_count": 13,
   "metadata": {},
   "outputs": [
    {
     "name": "stdout",
     "output_type": "stream",
     "text": [
      "2.9% of relevant Yelp reviews are in Montreal\n"
     ]
    }
   ],
   "source": [
    "den = len(dfr)\n",
    "dfr = dfr[dfr.business_id.isin(b_ids)]\n",
    "enum = len(dfr)\n",
    "print('{:.1f}% of relevant Yelp reviews are in Montreal'.format( enum/den*100 ) ) "
   ]
  },
  {
   "cell_type": "code",
   "execution_count": 14,
   "metadata": {},
   "outputs": [
    {
     "data": {
      "application/vnd.jupyter.widget-view+json": {
       "model_id": "fb72569aa8fa44f2a965867868f4ffad",
       "version_major": 2,
       "version_minor": 0
      },
      "text/plain": [
       "HBox(children=(IntProgress(value=0, max=138638), HTML(value='')))"
      ]
     },
     "metadata": {},
     "output_type": "display_data"
    },
    {
     "name": "stdout",
     "output_type": "stream",
     "text": [
      "\n"
     ]
    }
   ],
   "source": [
    "dfr['lang'] = dfr['clean_text'].progress_apply(lambda x: detect(x))"
   ]
  },
  {
   "cell_type": "markdown",
   "metadata": {},
   "source": [
    "## Translate French text"
   ]
  },
  {
   "cell_type": "code",
   "execution_count": 43,
   "metadata": {},
   "outputs": [],
   "source": [
    "dfrf = dfr[dfr.lang == 'fr'].copy()"
   ]
  },
  {
   "cell_type": "code",
   "execution_count": 44,
   "metadata": {},
   "outputs": [],
   "source": [
    "dfdict = pd.read_csv('data/fr-en.csv')\n",
    "D = { dfdict.iloc[i,0]:dfdict.iloc[i,1] for i in range(len(dfdict)) }\n",
    "Wf = set(D.keys())\n",
    "def translate(text):\n",
    "    word_tokens = text.split()\n",
    "    en_tr = []\n",
    "    for w in word_tokens:\n",
    "        if w in Wf:\n",
    "            en_tr.append(D[w])\n",
    "        elif w.isnumeric():\n",
    "            en_tr.append(w)\n",
    "    return ' '.join(en_tr)"
   ]
  },
  {
   "cell_type": "code",
   "execution_count": 45,
   "metadata": {},
   "outputs": [
    {
     "data": {
      "application/vnd.jupyter.widget-view+json": {
       "model_id": "55ac1ade2dae4a4cb3403481c7310b98",
       "version_major": 2,
       "version_minor": 0
      },
      "text/plain": [
       "HBox(children=(IntProgress(value=0, max=17727), HTML(value='')))"
      ]
     },
     "metadata": {},
     "output_type": "display_data"
    }
   ],
   "source": [
    "dfrf['text_en'] = dfrf['clean_text'].progress_apply(translate)"
   ]
  },
  {
   "cell_type": "code",
   "execution_count": 48,
   "metadata": {},
   "outputs": [],
   "source": [
    "dfrf['clean_text'] = dfrf['text_en']\n",
    "dfrf = dfrf.drop(columns='text_en')"
   ]
  },
  {
   "cell_type": "code",
   "execution_count": 56,
   "metadata": {},
   "outputs": [
    {
     "name": "stdout",
     "output_type": "stream",
     "text": [
      "86.5% of relevant Yelp reviews in Montreal are in english\n"
     ]
    }
   ],
   "source": [
    "den = len(dfr)\n",
    "dfre = dfr[dfr.lang == 'en'].copy()\n",
    "enum = len(dfre)\n",
    "print('{:.1f}% of relevant Yelp reviews in Montreal are in english'.format( enum/den*100 ) ) "
   ]
  },
  {
   "cell_type": "markdown",
   "metadata": {},
   "source": [
    "## Stemming"
   ]
  },
  {
   "cell_type": "code",
   "execution_count": 58,
   "metadata": {},
   "outputs": [],
   "source": [
    "dfr_new = pd.concat([dfre,dfrf])"
   ]
  },
  {
   "cell_type": "code",
   "execution_count": 59,
   "metadata": {},
   "outputs": [],
   "source": [
    "ps = PorterStemmer()\n",
    "def stem_cleaned_text(text):\n",
    "    if isinstance(text, str):\n",
    "        word_tokens = text.split() \n",
    "        clean_text = [ps.stem(w) for w in word_tokens]\n",
    "        ct = ' '.join(clean_text)\n",
    "        return ct\n",
    "    else:\n",
    "        return None"
   ]
  },
  {
   "cell_type": "code",
   "execution_count": 60,
   "metadata": {},
   "outputs": [
    {
     "data": {
      "application/vnd.jupyter.widget-view+json": {
       "model_id": "635fc457ce1f461190b097ba63c0835f",
       "version_major": 2,
       "version_minor": 0
      },
      "text/plain": [
       "HBox(children=(IntProgress(value=0, max=137639), HTML(value='')))"
      ]
     },
     "metadata": {},
     "output_type": "display_data"
    }
   ],
   "source": [
    "dfr_new['stemmed_text'] = dfr_new['clean_text'].progress_apply(stem_cleaned_text)"
   ]
  },
  {
   "cell_type": "code",
   "execution_count": 61,
   "metadata": {},
   "outputs": [],
   "source": [
    "dfr_new = dfr_new.drop(columns='clean_text')"
   ]
  },
  {
   "cell_type": "code",
   "execution_count": 62,
   "metadata": {},
   "outputs": [
    {
     "name": "stdout",
     "output_type": "stream",
     "text": [
      "137639\n",
      "137639\n"
     ]
    }
   ],
   "source": [
    "print(len(dfr_new))\n",
    "dfr_new = dfr_new.dropna(subset=['stemmed_text'])\n",
    "print(len(dfr_new))"
   ]
  },
  {
   "cell_type": "code",
   "execution_count": 63,
   "metadata": {},
   "outputs": [],
   "source": [
    "dfb.to_pickle('data/MontrealBusiness.pkl.gz')"
   ]
  },
  {
   "cell_type": "code",
   "execution_count": 64,
   "metadata": {},
   "outputs": [],
   "source": [
    "dfr_new.to_pickle('data/MontrealReview.pkl.gz')"
   ]
  },
  {
   "cell_type": "markdown",
   "metadata": {},
   "source": [
    "# Airbnb data"
   ]
  },
  {
   "cell_type": "code",
   "execution_count": 49,
   "metadata": {},
   "outputs": [
    {
     "name": "stderr",
     "output_type": "stream",
     "text": [
      "/anaconda3/lib/python3.7/site-packages/IPython/core/interactiveshell.py:3049: DtypeWarning: Columns (61,62) have mixed types. Specify dtype option on import or set low_memory=False.\n",
      "  interactivity=interactivity, compiler=compiler, result=result)\n"
     ]
    }
   ],
   "source": [
    "dfal = pd.read_csv('data/MontrealAirbnbListings.csv.gz', compression='gzip')"
   ]
  },
  {
   "cell_type": "code",
   "execution_count": 50,
   "metadata": {},
   "outputs": [],
   "source": [
    "dfal['price_float'] = dfal.apply(lambda x: float(Decimal(sub(r'[^\\d.]', '', x.price))), axis=1)"
   ]
  },
  {
   "cell_type": "code",
   "execution_count": 51,
   "metadata": {},
   "outputs": [
    {
     "data": {
      "application/vnd.jupyter.widget-view+json": {
       "model_id": "2d371bc3f0124a9d9f9ae45aff545de7",
       "version_major": 2,
       "version_minor": 0
      },
      "text/plain": [
       "HBox(children=(IntProgress(value=0, max=19787), HTML(value='')))"
      ]
     },
     "metadata": {},
     "output_type": "display_data"
    },
    {
     "name": "stdout",
     "output_type": "stream",
     "text": [
      "\n"
     ]
    }
   ],
   "source": [
    "stop_words = set(stopwords.words('english'))\n",
    "punct = list(string.punctuation)\n",
    "ps = PorterStemmer()\n",
    "\n",
    "def clean_text(text):\n",
    "    if isinstance(text, str):\n",
    "        for ch in punct:\n",
    "            text = text.replace(ch, '')\n",
    "        word_tokens = text.lower().split() \n",
    "        clean_text = [ps.stem(w) for w in word_tokens if not w in stop_words]\n",
    "        ct = ' '.join(clean_text)\n",
    "        return ct\n",
    "    else:\n",
    "        return None\n",
    "dfal['stemmed_neighborhood_overview'] = dfal['neighborhood_overview'].progress_apply(clean_text)"
   ]
  },
  {
   "cell_type": "code",
   "execution_count": 52,
   "metadata": {},
   "outputs": [],
   "source": [
    "dfal.to_pickle('data/MontrealAirbnbListings.pkl.gz')"
   ]
  },
  {
   "cell_type": "code",
   "execution_count": 53,
   "metadata": {},
   "outputs": [
    {
     "data": {
      "text/html": [
       "<div>\n",
       "<style scoped>\n",
       "    .dataframe tbody tr th:only-of-type {\n",
       "        vertical-align: middle;\n",
       "    }\n",
       "\n",
       "    .dataframe tbody tr th {\n",
       "        vertical-align: top;\n",
       "    }\n",
       "\n",
       "    .dataframe thead th {\n",
       "        text-align: right;\n",
       "    }\n",
       "</style>\n",
       "<table border=\"1\" class=\"dataframe\">\n",
       "  <thead>\n",
       "    <tr style=\"text-align: right;\">\n",
       "      <th></th>\n",
       "      <th>business_id</th>\n",
       "      <th>cool</th>\n",
       "      <th>date</th>\n",
       "      <th>funny</th>\n",
       "      <th>stars</th>\n",
       "      <th>useful</th>\n",
       "      <th>sentiment</th>\n",
       "      <th>lang</th>\n",
       "      <th>stemmed_text</th>\n",
       "    </tr>\n",
       "  </thead>\n",
       "  <tbody>\n",
       "    <tr>\n",
       "      <th>59</th>\n",
       "      <td>nDaW2hhQV5KYiGH7HzAOcg</td>\n",
       "      <td>1.0</td>\n",
       "      <td>2016-12-04 02:34:48</td>\n",
       "      <td>0.0</td>\n",
       "      <td>3.0</td>\n",
       "      <td>1.0</td>\n",
       "      <td>0</td>\n",
       "      <td>en</td>\n",
       "      <td>stumbl upon ice cream store see high review ye...</td>\n",
       "    </tr>\n",
       "    <tr>\n",
       "      <th>107</th>\n",
       "      <td>luPvNx4XSxaM7pka8EifuA</td>\n",
       "      <td>2.0</td>\n",
       "      <td>2017-04-19 11:38:43</td>\n",
       "      <td>1.0</td>\n",
       "      <td>3.0</td>\n",
       "      <td>0.0</td>\n",
       "      <td>0</td>\n",
       "      <td>en</td>\n",
       "      <td>fresh food tasti amaz servic 3 characterist co...</td>\n",
       "    </tr>\n",
       "    <tr>\n",
       "      <th>123</th>\n",
       "      <td>0JGMKaKJGVuDus5WcJzvjw</td>\n",
       "      <td>0.0</td>\n",
       "      <td>2017-04-30 03:37:51</td>\n",
       "      <td>1.0</td>\n",
       "      <td>5.0</td>\n",
       "      <td>2.0</td>\n",
       "      <td>1</td>\n",
       "      <td>en</td>\n",
       "      <td>unbeliev experi start finish reserv 9pm saturd...</td>\n",
       "    </tr>\n",
       "    <tr>\n",
       "      <th>191</th>\n",
       "      <td>9KmvrnyjWTr4sly0Dt770g</td>\n",
       "      <td>0.0</td>\n",
       "      <td>2017-08-16 04:41:54</td>\n",
       "      <td>0.0</td>\n",
       "      <td>1.0</td>\n",
       "      <td>0.0</td>\n",
       "      <td>0</td>\n",
       "      <td>en</td>\n",
       "      <td>locat excel restaur beauti food aw server rude...</td>\n",
       "    </tr>\n",
       "    <tr>\n",
       "      <th>205</th>\n",
       "      <td>XqJG7Ux_mMfMJnyG2Q4m2Q</td>\n",
       "      <td>0.0</td>\n",
       "      <td>2018-08-04 20:49:20</td>\n",
       "      <td>0.0</td>\n",
       "      <td>5.0</td>\n",
       "      <td>0.0</td>\n",
       "      <td>1</td>\n",
       "      <td>en</td>\n",
       "      <td>incred experi noth particular special neighbor...</td>\n",
       "    </tr>\n",
       "  </tbody>\n",
       "</table>\n",
       "</div>"
      ],
      "text/plain": [
       "                business_id  cool                 date  funny  stars  useful  \\\n",
       "59   nDaW2hhQV5KYiGH7HzAOcg   1.0  2016-12-04 02:34:48    0.0    3.0     1.0   \n",
       "107  luPvNx4XSxaM7pka8EifuA   2.0  2017-04-19 11:38:43    1.0    3.0     0.0   \n",
       "123  0JGMKaKJGVuDus5WcJzvjw   0.0  2017-04-30 03:37:51    1.0    5.0     2.0   \n",
       "191  9KmvrnyjWTr4sly0Dt770g   0.0  2017-08-16 04:41:54    0.0    1.0     0.0   \n",
       "205  XqJG7Ux_mMfMJnyG2Q4m2Q   0.0  2018-08-04 20:49:20    0.0    5.0     0.0   \n",
       "\n",
       "     sentiment lang                                       stemmed_text  \n",
       "59           0   en  stumbl upon ice cream store see high review ye...  \n",
       "107          0   en  fresh food tasti amaz servic 3 characterist co...  \n",
       "123          1   en  unbeliev experi start finish reserv 9pm saturd...  \n",
       "191          0   en  locat excel restaur beauti food aw server rude...  \n",
       "205          1   en  incred experi noth particular special neighbor...  "
      ]
     },
     "execution_count": 53,
     "metadata": {},
     "output_type": "execute_result"
    }
   ],
   "source": [
    "dfr.head(5)"
   ]
  },
  {
   "cell_type": "code",
   "execution_count": null,
   "metadata": {},
   "outputs": [],
   "source": []
  },
  {
   "cell_type": "markdown",
   "metadata": {},
   "source": [
    "# Accuracy of sentiment estimation on translated text"
   ]
  },
  {
   "cell_type": "code",
   "execution_count": 67,
   "metadata": {},
   "outputs": [],
   "source": [
    "from sklearn.externals import joblib\n",
    "tfidf  = joblib.load('models/TFIDF_model.joblib')\n",
    "# svd    = joblib.load('models/SVD_model.joblib')\n",
    "logreg = joblib.load('models/LogReg_model_noSVD.joblib')"
   ]
  },
  {
   "cell_type": "code",
   "execution_count": 76,
   "metadata": {},
   "outputs": [],
   "source": [
    "dfr_new['est_sentiment'] = logreg.predict(tfidf.transform(dfr_new['stemmed_text']))"
   ]
  },
  {
   "cell_type": "code",
   "execution_count": 93,
   "metadata": {},
   "outputs": [],
   "source": [
    "import numpy as np\n",
    "saf = np.array(dfr_new[dfr_new.lang == 'fr'].sentiment)\n",
    "sef = np.array(dfr_new[dfr_new.lang == 'fr'].est_sentiment)\n",
    "sae = np.array(dfr_new[dfr_new.lang == 'en'].sentiment)\n",
    "see = np.array(dfr_new[dfr_new.lang == 'en'].est_sentiment)"
   ]
  },
  {
   "cell_type": "code",
   "execution_count": 94,
   "metadata": {},
   "outputs": [
    {
     "name": "stdout",
     "output_type": "stream",
     "text": [
      "Sentiment prediction is 76.53% accurate on translated text\n",
      "Sentiment prediction is 89.26% accurate on original text\n"
     ]
    }
   ],
   "source": [
    "print('Sentiment prediction is {:.2f}% accurate on translated text'.format( (1-sum(abs(saf-sef))/len(saf))*100 ) ) \n",
    "print('Sentiment prediction is {:.2f}% accurate on original text'.format( (1-sum(abs(sae-see))/len(sae))*100 ) ) "
   ]
  },
  {
   "cell_type": "code",
   "execution_count": null,
   "metadata": {},
   "outputs": [],
   "source": []
  },
  {
   "cell_type": "code",
   "execution_count": null,
   "metadata": {},
   "outputs": [],
   "source": []
  }
 ],
 "metadata": {
  "kernelspec": {
   "display_name": "Python 3",
   "language": "python",
   "name": "python3"
  },
  "language_info": {
   "codemirror_mode": {
    "name": "ipython",
    "version": 3
   },
   "file_extension": ".py",
   "mimetype": "text/x-python",
   "name": "python",
   "nbconvert_exporter": "python",
   "pygments_lexer": "ipython3",
   "version": "3.7.3"
  }
 },
 "nbformat": 4,
 "nbformat_minor": 2
}
